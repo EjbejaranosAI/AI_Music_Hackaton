{
 "cells": [
  {
   "cell_type": "markdown",
   "id": "38ec5276",
   "metadata": {},
   "source": [
    "# Music generator"
   ]
  },
  {
   "cell_type": "code",
   "execution_count": 4,
   "id": "e3903742",
   "metadata": {},
   "outputs": [
    {
     "name": "stderr",
     "output_type": "stream",
     "text": [
      "usage: ipykernel_launcher.py [-h] [--ip IP] [--port PORT]\n",
      "ipykernel_launcher.py: error: unrecognized arguments: -f /home/ejbejaranos/.local/share/jupyter/runtime/kernel-bf692b76-a358-4332-bbbe-ced350b9a1a2.json\n"
     ]
    },
    {
     "ename": "SystemExit",
     "evalue": "2",
     "output_type": "error",
     "traceback": [
      "An exception has occurred, use %tb to see the full traceback.\n",
      "\u001b[0;31mSystemExit\u001b[0m\u001b[0;31m:\u001b[0m 2\n"
     ]
    },
    {
     "name": "stderr",
     "output_type": "stream",
     "text": [
      "/home/ejbejaranos/.local/lib/python3.8/site-packages/IPython/core/interactiveshell.py:3449: UserWarning: To exit: use 'exit', 'quit', or Ctrl-D.\n",
      "  warn(\"To exit: use 'exit', 'quit', or Ctrl-D.\", stacklevel=1)\n"
     ]
    }
   ],
   "source": [
    "\"\"\"Small example OSC client\n",
    "\n",
    "This program sends 10 random values between 0.0 and 1.0 to the /filter address,\n",
    "waiting for 1 seconds between each value.\n",
    "\"\"\"\n",
    "import argparse\n",
    "import random\n",
    "import time\n",
    "\n",
    "from pythonosc import udp_client\n",
    "\n",
    "\n",
    "if __name__ == \"__main__\":\n",
    "  parser = argparse.ArgumentParser()\n",
    "  parser.add_argument(\"--ip\", default=\"127.0.0.1\",\n",
    "      help=\"The ip of the OSC server\")\n",
    "  parser.add_argument(\"--port\", type=int, default=57120,\n",
    "      help=\"The port the OSC server is listening on\")\n",
    "  args = parser.parse_args()\n",
    "\n",
    "  client = udp_client.SimpleUDPClient(args.ip, args.port)\n",
    "\n",
    "  for x in range(10):\n",
    "    client.send_message(\"/filter\", random.random())\n",
    "    time.sleep(1)"
   ]
  },
  {
   "cell_type": "code",
   "execution_count": null,
   "id": "a591a006",
   "metadata": {},
   "outputs": [],
   "source": []
  },
  {
   "cell_type": "code",
   "execution_count": null,
   "id": "5a6aacde",
   "metadata": {},
   "outputs": [],
   "source": []
  }
 ],
 "metadata": {
  "kernelspec": {
   "display_name": "Python 3 (ipykernel)",
   "language": "python",
   "name": "python3"
  },
  "language_info": {
   "codemirror_mode": {
    "name": "ipython",
    "version": 3
   },
   "file_extension": ".py",
   "mimetype": "text/x-python",
   "name": "python",
   "nbconvert_exporter": "python",
   "pygments_lexer": "ipython3",
   "version": "3.8.8"
  }
 },
 "nbformat": 4,
 "nbformat_minor": 5
}
